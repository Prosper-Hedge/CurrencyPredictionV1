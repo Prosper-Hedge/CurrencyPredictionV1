{
 "cells": [
  {
   "cell_type": "markdown",
   "id": "ef678432-a34a-40a2-8d00-086cc9201b1f",
   "metadata": {},
   "source": [
    "#### Introduction\n",
    "\n",
    "##### Basic explore\n",
    "\n",
    "\n",
    "##### The Augmented Dickey-Fuller (ADF)\n",
    "\n",
    "\n",
    "##### Transforming stationarity - Differencing\n",
    "\n",
    "##### Rolling Mean and Standard Deviation\n",
    "\n",
    "##### Scaling down the data\n",
    "- log\n",
    "- StandardScaler & MinMaxScaler"
   ]
  },
  {
   "cell_type": "markdown",
   "id": "b0d82cce-7009-4117-ac83-1f1c22050fac",
   "metadata": {},
   "source": [
    "link: https://www.centralbank.go.ke/rates/forex-exchange-rates/"
   ]
  },
  {
   "cell_type": "code",
   "execution_count": 1,
   "id": "98ed50ae-4243-4214-9c95-e525143291b2",
   "metadata": {},
   "outputs": [],
   "source": [
    "import pandas as pd"
   ]
  },
  {
   "cell_type": "code",
   "execution_count": 3,
   "id": "783cb6d5-733f-4c40-a5ba-ec2a984db33e",
   "metadata": {},
   "outputs": [],
   "source": [
    "data = pd.read_csv(\"data21125.csv\", parse_dates=['Date'])"
   ]
  },
  {
   "cell_type": "code",
   "execution_count": 5,
   "id": "7db7cdf9-3a09-49fb-955a-960b07c976ad",
   "metadata": {},
   "outputs": [
    {
     "data": {
      "text/html": [
       "<div>\n",
       "<style scoped>\n",
       "    .dataframe tbody tr th:only-of-type {\n",
       "        vertical-align: middle;\n",
       "    }\n",
       "\n",
       "    .dataframe tbody tr th {\n",
       "        vertical-align: top;\n",
       "    }\n",
       "\n",
       "    .dataframe thead th {\n",
       "        text-align: right;\n",
       "    }\n",
       "</style>\n",
       "<table border=\"1\" class=\"dataframe\">\n",
       "  <thead>\n",
       "    <tr style=\"text-align: right;\">\n",
       "      <th></th>\n",
       "      <th>Date</th>\n",
       "      <th>Time</th>\n",
       "      <th>Currency</th>\n",
       "      <th>Mean-value</th>\n",
       "      <th>Buy</th>\n",
       "      <th>Sell</th>\n",
       "    </tr>\n",
       "  </thead>\n",
       "  <tbody>\n",
       "    <tr>\n",
       "      <th>0</th>\n",
       "      <td>2016-10-11</td>\n",
       "      <td>12:00:00 AM</td>\n",
       "      <td>US DOLLAR</td>\n",
       "      <td>101.28</td>\n",
       "      <td>101.19</td>\n",
       "      <td>101.38</td>\n",
       "    </tr>\n",
       "    <tr>\n",
       "      <th>1</th>\n",
       "      <td>2016-10-13</td>\n",
       "      <td>12:00:00 AM</td>\n",
       "      <td>US DOLLAR</td>\n",
       "      <td>101.30</td>\n",
       "      <td>101.20</td>\n",
       "      <td>101.39</td>\n",
       "    </tr>\n",
       "    <tr>\n",
       "      <th>2</th>\n",
       "      <td>2016-10-13</td>\n",
       "      <td>12:00:00 AM</td>\n",
       "      <td>US DOLLAR</td>\n",
       "      <td>101.30</td>\n",
       "      <td>101.20</td>\n",
       "      <td>101.39</td>\n",
       "    </tr>\n",
       "  </tbody>\n",
       "</table>\n",
       "</div>"
      ],
      "text/plain": [
       "        Date         Time   Currency  Mean-value     Buy    Sell\n",
       "0 2016-10-11  12:00:00 AM  US DOLLAR      101.28  101.19  101.38\n",
       "1 2016-10-13  12:00:00 AM  US DOLLAR      101.30  101.20  101.39\n",
       "2 2016-10-13  12:00:00 AM  US DOLLAR      101.30  101.20  101.39"
      ]
     },
     "execution_count": 5,
     "metadata": {},
     "output_type": "execute_result"
    }
   ],
   "source": [
    "data.head(3)"
   ]
  },
  {
   "cell_type": "code",
   "execution_count": 7,
   "id": "81bb9c60-e082-49b7-ac9b-73e8074b1943",
   "metadata": {},
   "outputs": [
    {
     "data": {
      "text/html": [
       "<div>\n",
       "<style scoped>\n",
       "    .dataframe tbody tr th:only-of-type {\n",
       "        vertical-align: middle;\n",
       "    }\n",
       "\n",
       "    .dataframe tbody tr th {\n",
       "        vertical-align: top;\n",
       "    }\n",
       "\n",
       "    .dataframe thead th {\n",
       "        text-align: right;\n",
       "    }\n",
       "</style>\n",
       "<table border=\"1\" class=\"dataframe\">\n",
       "  <thead>\n",
       "    <tr style=\"text-align: right;\">\n",
       "      <th></th>\n",
       "      <th>Date</th>\n",
       "      <th>Time</th>\n",
       "      <th>Currency</th>\n",
       "      <th>Mean-value</th>\n",
       "      <th>Buy</th>\n",
       "      <th>Sell</th>\n",
       "    </tr>\n",
       "  </thead>\n",
       "  <tbody>\n",
       "    <tr>\n",
       "      <th>1800</th>\n",
       "      <td>2024-01-02</td>\n",
       "      <td>12:00:00 AM</td>\n",
       "      <td>US DOLLAR</td>\n",
       "      <td>156.99</td>\n",
       "      <td>156.50</td>\n",
       "      <td>157.47</td>\n",
       "    </tr>\n",
       "    <tr>\n",
       "      <th>1801</th>\n",
       "      <td>2024-01-02</td>\n",
       "      <td>12:00:00 AM</td>\n",
       "      <td>US DOLLAR</td>\n",
       "      <td>157.32</td>\n",
       "      <td>156.95</td>\n",
       "      <td>157.69</td>\n",
       "    </tr>\n",
       "    <tr>\n",
       "      <th>1802</th>\n",
       "      <td>2024-01-03</td>\n",
       "      <td>12:00:00 AM</td>\n",
       "      <td>US DOLLAR</td>\n",
       "      <td>157.32</td>\n",
       "      <td>156.95</td>\n",
       "      <td>157.69</td>\n",
       "    </tr>\n",
       "  </tbody>\n",
       "</table>\n",
       "</div>"
      ],
      "text/plain": [
       "           Date         Time   Currency  Mean-value     Buy    Sell\n",
       "1800 2024-01-02  12:00:00 AM  US DOLLAR      156.99  156.50  157.47\n",
       "1801 2024-01-02  12:00:00 AM  US DOLLAR      157.32  156.95  157.69\n",
       "1802 2024-01-03  12:00:00 AM  US DOLLAR      157.32  156.95  157.69"
      ]
     },
     "execution_count": 7,
     "metadata": {},
     "output_type": "execute_result"
    }
   ],
   "source": [
    "data.tail(3)"
   ]
  },
  {
   "cell_type": "code",
   "execution_count": 20,
   "id": "a37533b0-6266-4c94-af2a-13982173a045",
   "metadata": {},
   "outputs": [
    {
     "name": "stdout",
     "output_type": "stream",
     "text": [
      "<class 'pandas.core.frame.DataFrame'>\n",
      "RangeIndex: 1803 entries, 0 to 1802\n",
      "Data columns (total 6 columns):\n",
      " #   Column      Non-Null Count  Dtype         \n",
      "---  ------      --------------  -----         \n",
      " 0   Date        1803 non-null   datetime64[ns]\n",
      " 1   Time        1803 non-null   object        \n",
      " 2   Currency    1803 non-null   object        \n",
      " 3   Mean-value  1803 non-null   float64       \n",
      " 4   Buy         1803 non-null   float64       \n",
      " 5   Sell        1803 non-null   float64       \n",
      "dtypes: datetime64[ns](1), float64(3), object(2)\n",
      "memory usage: 84.6+ KB\n"
     ]
    }
   ],
   "source": [
    "data.info()"
   ]
  },
  {
   "cell_type": "code",
   "execution_count": 30,
   "id": "9e281d14-bbe0-4aa7-a9dc-d9b2e18982ff",
   "metadata": {},
   "outputs": [],
   "source": [
    "data2 = pd.read_csv(\"data21125.csv\", index_col=['Date'], parse_dates=True)"
   ]
  },
  {
   "cell_type": "code",
   "execution_count": 32,
   "id": "3753f521-2f29-4786-943c-a96ac580041f",
   "metadata": {},
   "outputs": [
    {
     "data": {
      "text/html": [
       "<div>\n",
       "<style scoped>\n",
       "    .dataframe tbody tr th:only-of-type {\n",
       "        vertical-align: middle;\n",
       "    }\n",
       "\n",
       "    .dataframe tbody tr th {\n",
       "        vertical-align: top;\n",
       "    }\n",
       "\n",
       "    .dataframe thead th {\n",
       "        text-align: right;\n",
       "    }\n",
       "</style>\n",
       "<table border=\"1\" class=\"dataframe\">\n",
       "  <thead>\n",
       "    <tr style=\"text-align: right;\">\n",
       "      <th></th>\n",
       "      <th>Time</th>\n",
       "      <th>Currency</th>\n",
       "      <th>Mean-value</th>\n",
       "      <th>Buy</th>\n",
       "      <th>Sell</th>\n",
       "    </tr>\n",
       "    <tr>\n",
       "      <th>Date</th>\n",
       "      <th></th>\n",
       "      <th></th>\n",
       "      <th></th>\n",
       "      <th></th>\n",
       "      <th></th>\n",
       "    </tr>\n",
       "  </thead>\n",
       "  <tbody>\n",
       "    <tr>\n",
       "      <th>2016-10-11</th>\n",
       "      <td>12:00:00 AM</td>\n",
       "      <td>US DOLLAR</td>\n",
       "      <td>101.28</td>\n",
       "      <td>101.19</td>\n",
       "      <td>101.38</td>\n",
       "    </tr>\n",
       "    <tr>\n",
       "      <th>2016-10-13</th>\n",
       "      <td>12:00:00 AM</td>\n",
       "      <td>US DOLLAR</td>\n",
       "      <td>101.30</td>\n",
       "      <td>101.20</td>\n",
       "      <td>101.39</td>\n",
       "    </tr>\n",
       "    <tr>\n",
       "      <th>2016-10-13</th>\n",
       "      <td>12:00:00 AM</td>\n",
       "      <td>US DOLLAR</td>\n",
       "      <td>101.30</td>\n",
       "      <td>101.20</td>\n",
       "      <td>101.39</td>\n",
       "    </tr>\n",
       "    <tr>\n",
       "      <th>2016-10-13</th>\n",
       "      <td>12:00:00 AM</td>\n",
       "      <td>US DOLLAR</td>\n",
       "      <td>101.30</td>\n",
       "      <td>101.20</td>\n",
       "      <td>101.39</td>\n",
       "    </tr>\n",
       "    <tr>\n",
       "      <th>2016-10-13</th>\n",
       "      <td>12:00:00 AM</td>\n",
       "      <td>US DOLLAR</td>\n",
       "      <td>101.30</td>\n",
       "      <td>101.20</td>\n",
       "      <td>101.39</td>\n",
       "    </tr>\n",
       "  </tbody>\n",
       "</table>\n",
       "</div>"
      ],
      "text/plain": [
       "                   Time   Currency  Mean-value     Buy    Sell\n",
       "Date                                                          \n",
       "2016-10-11  12:00:00 AM  US DOLLAR      101.28  101.19  101.38\n",
       "2016-10-13  12:00:00 AM  US DOLLAR      101.30  101.20  101.39\n",
       "2016-10-13  12:00:00 AM  US DOLLAR      101.30  101.20  101.39\n",
       "2016-10-13  12:00:00 AM  US DOLLAR      101.30  101.20  101.39\n",
       "2016-10-13  12:00:00 AM  US DOLLAR      101.30  101.20  101.39"
      ]
     },
     "execution_count": 32,
     "metadata": {},
     "output_type": "execute_result"
    }
   ],
   "source": [
    "data2.head()"
   ]
  },
  {
   "cell_type": "code",
   "execution_count": 36,
   "id": "483d9fbe-4db3-464d-813d-6e6f578ea7bb",
   "metadata": {},
   "outputs": [
    {
     "data": {
      "text/plain": [
       "<Axes: xlabel='Date'>"
      ]
     },
     "execution_count": 36,
     "metadata": {},
     "output_type": "execute_result"
    },
    {
     "data": {
      "image/png": "[encoded data removed]",
      "text/plain": [
       "<Figure size 1200x500 with 1 Axes>"
      ]
     },
     "metadata": {},
     "output_type": "display_data"
    }
   ],
   "source": [
    "data2['Mean-value'].plot(figsize=(12,5))"
   ]
  },
  {
   "cell_type": "code",
   "execution_count": 44,
   "id": "5f39d965-d642-4f44-beaa-50e174d63147",
   "metadata": {},
   "outputs": [
    {
     "data": {
      "text/plain": [
       "Date          2024-01-03 00:00:00\n",
       "Time                  12:00:00 AM\n",
       "Currency                US DOLLAR\n",
       "Mean-value                 157.32\n",
       "Buy                        156.95\n",
       "Sell                       157.69\n",
       "dtype: object"
      ]
     },
     "execution_count": 44,
     "metadata": {},
     "output_type": "execute_result"
    }
   ],
   "source": [
    "data.max()"
   ]
  },
  {
   "cell_type": "markdown",
   "id": "11978526-72c4-4dd7-a21a-de3e7d9ebff2",
   "metadata": {},
   "source": [
    "#### The Augmented Dickey-Fuller (ADF) \n",
    "\n",
    "Test is a statistical test used to determine whether a time series is stationary or non-stationary. Stationarity means that the statistical properties of the series, such as mean and variance, are constant over time."
   ]
  },
  {
   "cell_type": "code",
   "execution_count": 47,
   "id": "d2c33c9e-6e6b-4d81-b707-1b6d14d851fb",
   "metadata": {},
   "outputs": [],
   "source": [
    "from statsmodels.tsa.stattools import adfuller\n",
    "\n",
    "#create a function\n",
    "def ad_test(dataset):\n",
    "    dftest = adfuller(dataset, autolag = \"AIC\")\n",
    "    print(\"1. ADF : \", dftest[0])\n",
    "    print(\"2. P-VAlue : \", dftest[1])\n",
    "    print(\"3. Num of Lags : \", dftest[2])\n",
    "    print(\"4. Num of observations used for ADF and Critical Values Calculations :\", dftest[3])\n",
    "    print(\"5. Critical Values : \")\n",
    "    for key, val in dftest[4].items():\n",
    "        print(\"\\t\", key, \": \", val)"
   ]
  },
  {
   "cell_type": "code",
   "execution_count": 49,
   "id": "43023c16-553b-43d9-94e6-65afea869b35",
   "metadata": {},
   "outputs": [
    {
     "name": "stdout",
     "output_type": "stream",
     "text": [
      "1. ADF :  4.226090736322659\n",
      "2. P-VAlue :  1.0\n",
      "3. Num of Lags :  24\n",
      "4. Num of observations used for ADF and Critical Values Calculations : 1778\n",
      "5. Critical Values : \n",
      "\t 1% :  -3.4340332205127657\n",
      "\t 5% :  -2.8631669370039785\n",
      "\t 10% :  -2.567636130407771\n"
     ]
    }
   ],
   "source": [
    "ad_test(data['Mean-value'])"
   ]
  },
  {
   "cell_type": "markdown",
   "id": "d5aa5c58-b90a-4e23-aebd-425ab07a3bd3",
   "metadata": {},
   "source": [
    "### Observations\n",
    "#### Hypothesis\n",
    "##### Null Hypothesis : The series is non-stationary\n",
    "##### Alternative Hypothesis : The series is stationary\n",
    "\n",
    "The ADF test statistic is very high, indicating non-stationarity, therefore we fail to reject the null hyposthesis.\n",
    "Also the test statistic is greater that critical values at all times, therefore we fail to reject the null hypothesis.\n",
    "\n",
    "P-value > 0.05, fail to reject Null Hypothesis (non-stationary)\n",
    "    "
   ]
  },
  {
   "cell_type": "markdown",
   "id": "197000ed-41be-443e-aa60-7af3ebb9e406",
   "metadata": {},
   "source": [
    "#### Scalling down the data"
   ]
  },
  {
   "cell_type": "code",
   "execution_count": 57,
   "id": "3ccef940-fc64-4c37-8450-d7b3154934e1",
   "metadata": {},
   "outputs": [],
   "source": [
    "from sklearn.preprocessing import StandardScaler, MinMaxScaler"
   ]
  },
  {
   "cell_type": "code",
   "execution_count": 59,
   "id": "5701be51-03e0-427a-a287-e265f751746e",
   "metadata": {},
   "outputs": [
    {
     "data": {
      "text/html": [
       "<div>\n",
       "<style scoped>\n",
       "    .dataframe tbody tr th:only-of-type {\n",
       "        vertical-align: middle;\n",
       "    }\n",
       "\n",
       "    .dataframe tbody tr th {\n",
       "        vertical-align: top;\n",
       "    }\n",
       "\n",
       "    .dataframe thead th {\n",
       "        text-align: right;\n",
       "    }\n",
       "</style>\n",
       "<table border=\"1\" class=\"dataframe\">\n",
       "  <thead>\n",
       "    <tr style=\"text-align: right;\">\n",
       "      <th></th>\n",
       "      <th>Date</th>\n",
       "      <th>Time</th>\n",
       "      <th>Currency</th>\n",
       "      <th>Mean-value</th>\n",
       "      <th>Buy</th>\n",
       "      <th>Sell</th>\n",
       "      <th>scaled-value</th>\n",
       "    </tr>\n",
       "  </thead>\n",
       "  <tbody>\n",
       "    <tr>\n",
       "      <th>0</th>\n",
       "      <td>2016-10-11</td>\n",
       "      <td>12:00:00 AM</td>\n",
       "      <td>US DOLLAR</td>\n",
       "      <td>101.28</td>\n",
       "      <td>101.19</td>\n",
       "      <td>101.38</td>\n",
       "      <td>-0.748717</td>\n",
       "    </tr>\n",
       "    <tr>\n",
       "      <th>1</th>\n",
       "      <td>2016-10-13</td>\n",
       "      <td>12:00:00 AM</td>\n",
       "      <td>US DOLLAR</td>\n",
       "      <td>101.30</td>\n",
       "      <td>101.20</td>\n",
       "      <td>101.39</td>\n",
       "      <td>-0.747213</td>\n",
       "    </tr>\n",
       "    <tr>\n",
       "      <th>2</th>\n",
       "      <td>2016-10-13</td>\n",
       "      <td>12:00:00 AM</td>\n",
       "      <td>US DOLLAR</td>\n",
       "      <td>101.30</td>\n",
       "      <td>101.20</td>\n",
       "      <td>101.39</td>\n",
       "      <td>-0.747213</td>\n",
       "    </tr>\n",
       "    <tr>\n",
       "      <th>3</th>\n",
       "      <td>2016-10-13</td>\n",
       "      <td>12:00:00 AM</td>\n",
       "      <td>US DOLLAR</td>\n",
       "      <td>101.30</td>\n",
       "      <td>101.20</td>\n",
       "      <td>101.39</td>\n",
       "      <td>-0.747213</td>\n",
       "    </tr>\n",
       "    <tr>\n",
       "      <th>4</th>\n",
       "      <td>2016-10-13</td>\n",
       "      <td>12:00:00 AM</td>\n",
       "      <td>US DOLLAR</td>\n",
       "      <td>101.30</td>\n",
       "      <td>101.20</td>\n",
       "      <td>101.39</td>\n",
       "      <td>-0.747213</td>\n",
       "    </tr>\n",
       "  </tbody>\n",
       "</table>\n",
       "</div>"
      ],
      "text/plain": [
       "        Date         Time   Currency  Mean-value     Buy    Sell  scaled-value\n",
       "0 2016-10-11  12:00:00 AM  US DOLLAR      101.28  101.19  101.38     -0.748717\n",
       "1 2016-10-13  12:00:00 AM  US DOLLAR      101.30  101.20  101.39     -0.747213\n",
       "2 2016-10-13  12:00:00 AM  US DOLLAR      101.30  101.20  101.39     -0.747213\n",
       "3 2016-10-13  12:00:00 AM  US DOLLAR      101.30  101.20  101.39     -0.747213\n",
       "4 2016-10-13  12:00:00 AM  US DOLLAR      101.30  101.20  101.39     -0.747213"
      ]
     },
     "execution_count": 59,
     "metadata": {},
     "output_type": "execute_result"
    }
   ],
   "source": [
    "# Standard Scaler\n",
    "\n",
    "scaler = StandardScaler()\n",
    "data['scaled-value'] = scaler.fit_transform(data[['Mean-value']])\n",
    "data.head()"
   ]
  },
  {
   "cell_type": "code",
   "execution_count": 63,
   "id": "66e394e9-e7e2-4937-aad3-87c122bcc4a3",
   "metadata": {},
   "outputs": [],
   "source": [
    "## data['scaled-value'].plot(figsize=(12,5))\n",
    "\n",
    "#Nothing really changed"
   ]
  },
  {
   "cell_type": "code",
   "execution_count": 65,
   "id": "52539478-d3e4-430c-a234-c8b410bdaa22",
   "metadata": {},
   "outputs": [
    {
     "data": {
      "text/html": [
       "<div>\n",
       "<style scoped>\n",
       "    .dataframe tbody tr th:only-of-type {\n",
       "        vertical-align: middle;\n",
       "    }\n",
       "\n",
       "    .dataframe tbody tr th {\n",
       "        vertical-align: top;\n",
       "    }\n",
       "\n",
       "    .dataframe thead th {\n",
       "        text-align: right;\n",
       "    }\n",
       "</style>\n",
       "<table border=\"1\" class=\"dataframe\">\n",
       "  <thead>\n",
       "    <tr style=\"text-align: right;\">\n",
       "      <th></th>\n",
       "      <th>Date</th>\n",
       "      <th>Time</th>\n",
       "      <th>Currency</th>\n",
       "      <th>Mean-value</th>\n",
       "      <th>Buy</th>\n",
       "      <th>Sell</th>\n",
       "      <th>scaled-value</th>\n",
       "      <th>minmax-value</th>\n",
       "    </tr>\n",
       "  </thead>\n",
       "  <tbody>\n",
       "    <tr>\n",
       "      <th>0</th>\n",
       "      <td>2016-10-11</td>\n",
       "      <td>12:00:00 AM</td>\n",
       "      <td>US DOLLAR</td>\n",
       "      <td>101.28</td>\n",
       "      <td>101.19</td>\n",
       "      <td>101.38</td>\n",
       "      <td>-0.748717</td>\n",
       "      <td>0.028938</td>\n",
       "    </tr>\n",
       "    <tr>\n",
       "      <th>1</th>\n",
       "      <td>2016-10-13</td>\n",
       "      <td>12:00:00 AM</td>\n",
       "      <td>US DOLLAR</td>\n",
       "      <td>101.30</td>\n",
       "      <td>101.20</td>\n",
       "      <td>101.39</td>\n",
       "      <td>-0.747213</td>\n",
       "      <td>0.029284</td>\n",
       "    </tr>\n",
       "    <tr>\n",
       "      <th>2</th>\n",
       "      <td>2016-10-13</td>\n",
       "      <td>12:00:00 AM</td>\n",
       "      <td>US DOLLAR</td>\n",
       "      <td>101.30</td>\n",
       "      <td>101.20</td>\n",
       "      <td>101.39</td>\n",
       "      <td>-0.747213</td>\n",
       "      <td>0.029284</td>\n",
       "    </tr>\n",
       "    <tr>\n",
       "      <th>3</th>\n",
       "      <td>2016-10-13</td>\n",
       "      <td>12:00:00 AM</td>\n",
       "      <td>US DOLLAR</td>\n",
       "      <td>101.30</td>\n",
       "      <td>101.20</td>\n",
       "      <td>101.39</td>\n",
       "      <td>-0.747213</td>\n",
       "      <td>0.029284</td>\n",
       "    </tr>\n",
       "    <tr>\n",
       "      <th>4</th>\n",
       "      <td>2016-10-13</td>\n",
       "      <td>12:00:00 AM</td>\n",
       "      <td>US DOLLAR</td>\n",
       "      <td>101.30</td>\n",
       "      <td>101.20</td>\n",
       "      <td>101.39</td>\n",
       "      <td>-0.747213</td>\n",
       "      <td>0.029284</td>\n",
       "    </tr>\n",
       "  </tbody>\n",
       "</table>\n",
       "</div>"
      ],
      "text/plain": [
       "        Date         Time   Currency  Mean-value     Buy    Sell  \\\n",
       "0 2016-10-11  12:00:00 AM  US DOLLAR      101.28  101.19  101.38   \n",
       "1 2016-10-13  12:00:00 AM  US DOLLAR      101.30  101.20  101.39   \n",
       "2 2016-10-13  12:00:00 AM  US DOLLAR      101.30  101.20  101.39   \n",
       "3 2016-10-13  12:00:00 AM  US DOLLAR      101.30  101.20  101.39   \n",
       "4 2016-10-13  12:00:00 AM  US DOLLAR      101.30  101.20  101.39   \n",
       "\n",
       "   scaled-value  minmax-value  \n",
       "0     -0.748717      0.028938  \n",
       "1     -0.747213      0.029284  \n",
       "2     -0.747213      0.029284  \n",
       "3     -0.747213      0.029284  \n",
       "4     -0.747213      0.029284  "
      ]
     },
     "execution_count": 65,
     "metadata": {},
     "output_type": "execute_result"
    }
   ],
   "source": [
    "minmax = MinMaxScaler()\n",
    "\n",
    "data['minmax-value'] = minmax.fit_transform(data[['Mean-value']])\n",
    "data.head()"
   ]
  },
  {
   "cell_type": "code",
   "execution_count": 69,
   "id": "f6aad816-4cd7-41a4-bbcd-d9cae1811e7f",
   "metadata": {},
   "outputs": [],
   "source": [
    "## data['minmax-value'].plot(figsize=(12,5))\n",
    "\n",
    "#Nothing really changed"
   ]
  },
  {
   "cell_type": "code",
   "execution_count": 71,
   "id": "cff1dcf9-f7f8-4fb0-b4f0-f176ac84c9df",
   "metadata": {},
   "outputs": [
    {
     "data": {
      "text/html": [
       "<div>\n",
       "<style scoped>\n",
       "    .dataframe tbody tr th:only-of-type {\n",
       "        vertical-align: middle;\n",
       "    }\n",
       "\n",
       "    .dataframe tbody tr th {\n",
       "        vertical-align: top;\n",
       "    }\n",
       "\n",
       "    .dataframe thead th {\n",
       "        text-align: right;\n",
       "    }\n",
       "</style>\n",
       "<table border=\"1\" class=\"dataframe\">\n",
       "  <thead>\n",
       "    <tr style=\"text-align: right;\">\n",
       "      <th></th>\n",
       "      <th>Date</th>\n",
       "      <th>Time</th>\n",
       "      <th>Currency</th>\n",
       "      <th>Mean-value</th>\n",
       "      <th>Buy</th>\n",
       "      <th>Sell</th>\n",
       "      <th>scaled-value</th>\n",
       "      <th>minmax-value</th>\n",
       "      <th>log-value</th>\n",
       "    </tr>\n",
       "  </thead>\n",
       "  <tbody>\n",
       "    <tr>\n",
       "      <th>0</th>\n",
       "      <td>2016-10-11</td>\n",
       "      <td>12:00:00 AM</td>\n",
       "      <td>US DOLLAR</td>\n",
       "      <td>101.28</td>\n",
       "      <td>101.19</td>\n",
       "      <td>101.38</td>\n",
       "      <td>-0.748717</td>\n",
       "      <td>0.028938</td>\n",
       "      <td>4.617889</td>\n",
       "    </tr>\n",
       "    <tr>\n",
       "      <th>1</th>\n",
       "      <td>2016-10-13</td>\n",
       "      <td>12:00:00 AM</td>\n",
       "      <td>US DOLLAR</td>\n",
       "      <td>101.30</td>\n",
       "      <td>101.20</td>\n",
       "      <td>101.39</td>\n",
       "      <td>-0.747213</td>\n",
       "      <td>0.029284</td>\n",
       "      <td>4.618086</td>\n",
       "    </tr>\n",
       "    <tr>\n",
       "      <th>2</th>\n",
       "      <td>2016-10-13</td>\n",
       "      <td>12:00:00 AM</td>\n",
       "      <td>US DOLLAR</td>\n",
       "      <td>101.30</td>\n",
       "      <td>101.20</td>\n",
       "      <td>101.39</td>\n",
       "      <td>-0.747213</td>\n",
       "      <td>0.029284</td>\n",
       "      <td>4.618086</td>\n",
       "    </tr>\n",
       "    <tr>\n",
       "      <th>3</th>\n",
       "      <td>2016-10-13</td>\n",
       "      <td>12:00:00 AM</td>\n",
       "      <td>US DOLLAR</td>\n",
       "      <td>101.30</td>\n",
       "      <td>101.20</td>\n",
       "      <td>101.39</td>\n",
       "      <td>-0.747213</td>\n",
       "      <td>0.029284</td>\n",
       "      <td>4.618086</td>\n",
       "    </tr>\n",
       "    <tr>\n",
       "      <th>4</th>\n",
       "      <td>2016-10-13</td>\n",
       "      <td>12:00:00 AM</td>\n",
       "      <td>US DOLLAR</td>\n",
       "      <td>101.30</td>\n",
       "      <td>101.20</td>\n",
       "      <td>101.39</td>\n",
       "      <td>-0.747213</td>\n",
       "      <td>0.029284</td>\n",
       "      <td>4.618086</td>\n",
       "    </tr>\n",
       "  </tbody>\n",
       "</table>\n",
       "</div>"
      ],
      "text/plain": [
       "        Date         Time   Currency  Mean-value     Buy    Sell  \\\n",
       "0 2016-10-11  12:00:00 AM  US DOLLAR      101.28  101.19  101.38   \n",
       "1 2016-10-13  12:00:00 AM  US DOLLAR      101.30  101.20  101.39   \n",
       "2 2016-10-13  12:00:00 AM  US DOLLAR      101.30  101.20  101.39   \n",
       "3 2016-10-13  12:00:00 AM  US DOLLAR      101.30  101.20  101.39   \n",
       "4 2016-10-13  12:00:00 AM  US DOLLAR      101.30  101.20  101.39   \n",
       "\n",
       "   scaled-value  minmax-value  log-value  \n",
       "0     -0.748717      0.028938   4.617889  \n",
       "1     -0.747213      0.029284   4.618086  \n",
       "2     -0.747213      0.029284   4.618086  \n",
       "3     -0.747213      0.029284   4.618086  \n",
       "4     -0.747213      0.029284   4.618086  "
      ]
     },
     "execution_count": 71,
     "metadata": {},
     "output_type": "execute_result"
    }
   ],
   "source": [
    "import numpy as np\n",
    "\n",
    "data['log-value'] = np.log(data['Mean-value'])\n",
    "data.head()"
   ]
  },
  {
   "cell_type": "code",
   "execution_count": 75,
   "id": "fec96551-32fe-429a-bff7-9c99aea2db97",
   "metadata": {},
   "outputs": [],
   "source": [
    "## data['log-value'].plot(figsize=(12,5))\n",
    "\n",
    "# nothing really changed"
   ]
  },
  {
   "cell_type": "markdown",
   "id": "101a83c8-991f-4a07-9774-f4b6306e3a47",
   "metadata": {},
   "source": [
    "#### Transforming to Stationarity : Differencing"
   ]
  },
  {
   "cell_type": "code",
   "execution_count": 9,
   "id": "79053cd7-b75c-475d-b3d4-e2f6ea186566",
   "metadata": {},
   "outputs": [],
   "source": [
    "data_diff = data['Mean-value'].diff().dropna()"
   ]
  },
  {
   "cell_type": "code",
   "execution_count": 11,
   "id": "cd993a15-0adf-4748-aa8f-955df75b3352",
   "metadata": {},
   "outputs": [
    {
     "data": {
      "text/plain": [
       "1       0.02\n",
       "2       0.00\n",
       "3       0.00\n",
       "4       0.00\n",
       "5       0.00\n",
       "        ... \n",
       "1798    0.62\n",
       "1799    0.37\n",
       "1800    0.53\n",
       "1801    0.33\n",
       "1802    0.00\n",
       "Name: Mean-value, Length: 1802, dtype: float64"
      ]
     },
     "execution_count": 11,
     "metadata": {},
     "output_type": "execute_result"
    }
   ],
   "source": [
    "data_diff"
   ]
  },
  {
   "cell_type": "code",
   "execution_count": 13,
   "id": "53c492f5-f7a5-4ac3-8352-103dbcee523b",
   "metadata": {},
   "outputs": [
    {
     "data": {
      "text/plain": [
       "<Axes: >"
      ]
     },
     "execution_count": 13,
     "metadata": {},
     "output_type": "execute_result"
    },
    {
     "data": {
      "image/png": "[encoded data removed]",
      "text/plain": [
       "<Figure size 1200x500 with 1 Axes>"
      ]
     },
     "metadata": {},
     "output_type": "display_data"
    }
   ],
   "source": [
    "data_diff.plot(figsize=(12,5))"
   ]
  },
  {
   "cell_type": "code",
   "execution_count": 15,
   "id": "d6d4c77a-c050-476c-a8f3-ac696c4b5dba",
   "metadata": {},
   "outputs": [
    {
     "ename": "NameError",
     "evalue": "name 'ad_test' is not defined",
     "output_type": "error",
     "traceback": [
      "\u001b[1;31m---------------------------------------------------------------------------\u001b[0m",
      "\u001b[1;31mNameError\u001b[0m                                 Traceback (most recent call last)",
      "Cell \u001b[1;32mIn[15], line 3\u001b[0m\n\u001b[0;32m      1\u001b[0m \u001b[38;5;66;03m# lets check for seasonality\u001b[39;00m\n\u001b[1;32m----> 3\u001b[0m ad_test(data_diff)\n",
      "\u001b[1;31mNameError\u001b[0m: name 'ad_test' is not defined"
     ]
    }
   ],
   "source": [
    "# lets check for seasonality\n",
    "\n",
    "ad_test(data_diff)"
   ]
  },
  {
   "cell_type": "markdown",
   "id": "e908bf55-1fbd-4f42-a6b7-35fd5ba1626d",
   "metadata": {},
   "source": [
    "##### We reject Null Hypothesis"
   ]
  },
  {
   "cell_type": "code",
   "execution_count": 17,
   "id": "677e4be9-ec45-419b-aa77-a93533d30b28",
   "metadata": {},
   "outputs": [],
   "source": [
    "data['diff-value'] = data_diff"
   ]
  },
  {
   "cell_type": "code",
   "execution_count": 19,
   "id": "99dda0ad-0776-463b-9880-500dd891b49e",
   "metadata": {},
   "outputs": [
    {
     "data": {
      "text/html": [
       "<div>\n",
       "<style scoped>\n",
       "    .dataframe tbody tr th:only-of-type {\n",
       "        vertical-align: middle;\n",
       "    }\n",
       "\n",
       "    .dataframe tbody tr th {\n",
       "        vertical-align: top;\n",
       "    }\n",
       "\n",
       "    .dataframe thead th {\n",
       "        text-align: right;\n",
       "    }\n",
       "</style>\n",
       "<table border=\"1\" class=\"dataframe\">\n",
       "  <thead>\n",
       "    <tr style=\"text-align: right;\">\n",
       "      <th></th>\n",
       "      <th>Date</th>\n",
       "      <th>Time</th>\n",
       "      <th>Currency</th>\n",
       "      <th>Mean-value</th>\n",
       "      <th>Buy</th>\n",
       "      <th>Sell</th>\n",
       "      <th>diff-value</th>\n",
       "    </tr>\n",
       "  </thead>\n",
       "  <tbody>\n",
       "    <tr>\n",
       "      <th>0</th>\n",
       "      <td>2016-10-11</td>\n",
       "      <td>12:00:00 AM</td>\n",
       "      <td>US DOLLAR</td>\n",
       "      <td>101.28</td>\n",
       "      <td>101.19</td>\n",
       "      <td>101.38</td>\n",
       "      <td>NaN</td>\n",
       "    </tr>\n",
       "    <tr>\n",
       "      <th>1</th>\n",
       "      <td>2016-10-13</td>\n",
       "      <td>12:00:00 AM</td>\n",
       "      <td>US DOLLAR</td>\n",
       "      <td>101.30</td>\n",
       "      <td>101.20</td>\n",
       "      <td>101.39</td>\n",
       "      <td>0.02</td>\n",
       "    </tr>\n",
       "    <tr>\n",
       "      <th>2</th>\n",
       "      <td>2016-10-13</td>\n",
       "      <td>12:00:00 AM</td>\n",
       "      <td>US DOLLAR</td>\n",
       "      <td>101.30</td>\n",
       "      <td>101.20</td>\n",
       "      <td>101.39</td>\n",
       "      <td>0.00</td>\n",
       "    </tr>\n",
       "    <tr>\n",
       "      <th>3</th>\n",
       "      <td>2016-10-13</td>\n",
       "      <td>12:00:00 AM</td>\n",
       "      <td>US DOLLAR</td>\n",
       "      <td>101.30</td>\n",
       "      <td>101.20</td>\n",
       "      <td>101.39</td>\n",
       "      <td>0.00</td>\n",
       "    </tr>\n",
       "    <tr>\n",
       "      <th>4</th>\n",
       "      <td>2016-10-13</td>\n",
       "      <td>12:00:00 AM</td>\n",
       "      <td>US DOLLAR</td>\n",
       "      <td>101.30</td>\n",
       "      <td>101.20</td>\n",
       "      <td>101.39</td>\n",
       "      <td>0.00</td>\n",
       "    </tr>\n",
       "  </tbody>\n",
       "</table>\n",
       "</div>"
      ],
      "text/plain": [
       "        Date         Time   Currency  Mean-value     Buy    Sell  diff-value\n",
       "0 2016-10-11  12:00:00 AM  US DOLLAR      101.28  101.19  101.38         NaN\n",
       "1 2016-10-13  12:00:00 AM  US DOLLAR      101.30  101.20  101.39        0.02\n",
       "2 2016-10-13  12:00:00 AM  US DOLLAR      101.30  101.20  101.39        0.00\n",
       "3 2016-10-13  12:00:00 AM  US DOLLAR      101.30  101.20  101.39        0.00\n",
       "4 2016-10-13  12:00:00 AM  US DOLLAR      101.30  101.20  101.39        0.00"
      ]
     },
     "execution_count": 19,
     "metadata": {},
     "output_type": "execute_result"
    }
   ],
   "source": [
    "data.head()"
   ]
  },
  {
   "cell_type": "code",
   "execution_count": 21,
   "id": "27f70ee0-c3ad-45d5-b4a6-f353740d89a7",
   "metadata": {},
   "outputs": [],
   "source": [
    "data = data.fillna(0)"
   ]
  },
  {
   "cell_type": "code",
   "execution_count": 9,
   "id": "a5aceca2-605b-467c-b611-c61c0a1abdfa",
   "metadata": {},
   "outputs": [],
   "source": [
    "data.to_csv(\"differenced_value_data.csv\", index=False)"
   ]
  },
  {
   "cell_type": "code",
   "execution_count": 99,
   "id": "f86eb289-82aa-4baf-8a0f-bf820361d41e",
   "metadata": {},
   "outputs": [
    {
     "data": {
      "text/plain": [
       "count    1803.000000\n",
       "mean        0.031082\n",
       "std         0.151853\n",
       "min        -1.600000\n",
       "25%        -0.010000\n",
       "50%         0.030000\n",
       "75%         0.080000\n",
       "max         1.200000\n",
       "Name: diff-value, dtype: float64"
      ]
     },
     "execution_count": 99,
     "metadata": {},
     "output_type": "execute_result"
    }
   ],
   "source": [
    "data['diff-value'].describe()"
   ]
  },
  {
   "cell_type": "code",
   "execution_count": null,
   "id": "a1ba8e14-3e37-40a1-8b5d-05a7cefb7f1a",
   "metadata": {},
   "outputs": [],
   "source": []
  },
  {
   "cell_type": "markdown",
   "id": "a21402f3-f288-46b9-9f99-0cbeb767e595",
   "metadata": {},
   "source": [
    "#### Rolling Mean and Standard Deviation"
   ]
  },
  {
   "cell_type": "code",
   "execution_count": 119,
   "id": "cf88f3c9-2f9e-4065-960d-cb6621059529",
   "metadata": {},
   "outputs": [],
   "source": [
    "import matplotlib.pyplot as plt\n",
    "\n",
    "def check_stationarity(timeseries):\n",
    "    \n",
    "    #defining  the rolling statistics\n",
    "    \n",
    "    rol_mean =  timeseries.rolling(window=30,center=False).mean()\n",
    "    rol_std = timeseries.rolling(window=30,center=False).std()\n",
    "   \n",
    "    #plot rolling statistics\n",
    "    \n",
    "    plt.figure(figsize=(12,5))\n",
    "    orig = plt.plot(timeseries, color='blue',label='Original Ts')\n",
    "    mean = plt.plot(rol_mean, color='red', label='Rolling Mean')\n",
    "    std = plt.plot(rol_std, color='black', label = 'Rolling Std')\n",
    "    plt.xlabel('Dates')\n",
    "    plt.ylabel('Number of Orders')\n",
    "    plt.legend(loc='best')\n",
    "    plt.title('Rolling Mean And Standard Deviation')\n",
    "    plt.show(block=False)"
   ]
  },
  {
   "cell_type": "code",
   "execution_count": 121,
   "id": "db9d1360-f19a-4639-930c-89644801bd9f",
   "metadata": {},
   "outputs": [],
   "source": [
    "data3 = pd.read_csv('data21125.csv', index_col=['Date'], parse_dates=True).drop(columns =[\"Time\",\"Currency\", \"Buy\", \"Sell\"], axis=1)"
   ]
  },
  {
   "cell_type": "code",
   "execution_count": 123,
   "id": "33f3c0ce-9a4a-454e-bd2c-70f4f93b513b",
   "metadata": {},
   "outputs": [
    {
     "data": {
      "text/html": [
       "<div>\n",
       "<style scoped>\n",
       "    .dataframe tbody tr th:only-of-type {\n",
       "        vertical-align: middle;\n",
       "    }\n",
       "\n",
       "    .dataframe tbody tr th {\n",
       "        vertical-align: top;\n",
       "    }\n",
       "\n",
       "    .dataframe thead th {\n",
       "        text-align: right;\n",
       "    }\n",
       "</style>\n",
       "<table border=\"1\" class=\"dataframe\">\n",
       "  <thead>\n",
       "    <tr style=\"text-align: right;\">\n",
       "      <th></th>\n",
       "      <th>Mean-value</th>\n",
       "    </tr>\n",
       "    <tr>\n",
       "      <th>Date</th>\n",
       "      <th></th>\n",
       "    </tr>\n",
       "  </thead>\n",
       "  <tbody>\n",
       "    <tr>\n",
       "      <th>2016-10-11</th>\n",
       "      <td>101.28</td>\n",
       "    </tr>\n",
       "    <tr>\n",
       "      <th>2016-10-13</th>\n",
       "      <td>101.30</td>\n",
       "    </tr>\n",
       "    <tr>\n",
       "      <th>2016-10-13</th>\n",
       "      <td>101.30</td>\n",
       "    </tr>\n",
       "    <tr>\n",
       "      <th>2016-10-13</th>\n",
       "      <td>101.30</td>\n",
       "    </tr>\n",
       "    <tr>\n",
       "      <th>2016-10-13</th>\n",
       "      <td>101.30</td>\n",
       "    </tr>\n",
       "  </tbody>\n",
       "</table>\n",
       "</div>"
      ],
      "text/plain": [
       "            Mean-value\n",
       "Date                  \n",
       "2016-10-11      101.28\n",
       "2016-10-13      101.30\n",
       "2016-10-13      101.30\n",
       "2016-10-13      101.30\n",
       "2016-10-13      101.30"
      ]
     },
     "execution_count": 123,
     "metadata": {},
     "output_type": "execute_result"
    }
   ],
   "source": [
    "data3.head()"
   ]
  },
  {
   "cell_type": "code",
   "execution_count": 125,
   "id": "b9f7b528-b74f-43d7-bf31-bba895d9eecc",
   "metadata": {},
   "outputs": [
    {
     "data": {
      "image/png": "[encoded data removed]",
      "text/plain": [
       "<Figure size 1200x500 with 1 Axes>"
      ]
     },
     "metadata": {},
     "output_type": "display_data"
    }
   ],
   "source": [
    "import matplotlib.pyplot as plt\n",
    "check_stationarity(data3)"
   ]
  },
  {
   "cell_type": "code",
   "execution_count": null,
   "id": "5572f847-2541-4f9e-bb0f-17cb5e2780df",
   "metadata": {},
   "outputs": [],
   "source": []
  }
 ],
 "metadata": {
  "kernelspec": {
   "display_name": "Python 3 (ipykernel)",
   "language": "python",
   "name": "python3"
  },
  "language_info": {
   "codemirror_mode": {
    "name": "ipython",
    "version": 3
   },
   "file_extension": ".py",
   "mimetype": "text/x-python",
   "name": "python",
   "nbconvert_exporter": "python",
   "pygments_lexer": "ipython3",
   "version": "3.12.7"
  }
 },
 "nbformat": 4,
 "nbformat_minor": 5
}
