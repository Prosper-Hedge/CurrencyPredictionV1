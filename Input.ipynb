{
 "cells": [
  {
   "cell_type": "code",
   "execution_count": 87,
   "id": "8973fe70-627b-4a22-a656-e889e84be041",
   "metadata": {},
   "outputs": [
    {
     "name": "stdout",
     "output_type": "stream",
     "text": [
      "{'year': 2018, 'Month': 8, 'Quarter': 3, 'Week-of-year': 32, 'Day-of-year': 222, 'Week-of-month': 2, 'Day-of-week': 4}\n"
     ]
    }
   ],
   "source": [
    "import pandas as pd\n",
    "import math\n",
    "\n",
    "def extract_date_features(date_entry):\n",
    "    \"\"\"\n",
    "    Extracts year, month, quarter, week-of-year, day-of-year, week-of-month, \n",
    "    and day-of-week from a given date.\n",
    "\n",
    "    Parameters:\n",
    "    date_entry (str or datetime): A date entry in string format (YYYY-MM-DD) or a datetime object.\n",
    "\n",
    "    Returns:\n",
    "    dict: A dictionary with extracted date features.\n",
    "    \"\"\"\n",
    "    # Convert the input to a datetime object if it's a string\n",
    "    if isinstance(date_entry, str):\n",
    "        date_entry = pd.to_datetime(date_entry)\n",
    "    \n",
    "    # Calculate the week of the month\n",
    "    first_day_of_month = date_entry.replace(day=1)\n",
    "    week_of_month = math.ceil((date_entry.day + first_day_of_month.weekday()) / 7)\n",
    "\n",
    "    # Extract features\n",
    "    features = {\n",
    "        \"year\": date_entry.year,\n",
    "        \"Month\": date_entry.month,\n",
    "        \"Quarter\": (date_entry.month - 1) // 3 + 1,\n",
    "        \"Week-of-year\": date_entry.isocalendar()[1],\n",
    "        \"Day-of-year\": date_entry.timetuple().tm_yday,\n",
    "        \"Week-of-month\": week_of_month,\n",
    "        \"Day-of-week\": date_entry.weekday(),  # 0=Monday, 6=Sunday\n",
    "    }\n",
    "\n",
    "    return features\n",
    "\n",
    "# Example usage\n",
    "date = \"2018-08-10\"\n",
    "features = extract_date_features(date)\n",
    "print(features)\n"
   ]
  },
  {
   "cell_type": "code",
   "execution_count": 89,
   "id": "1e1a31c5-19c7-4acd-b93b-73591ce17882",
   "metadata": {},
   "outputs": [],
   "source": [
    "import pandas as pd\n",
    "input_data = pd.DataFrame([features])"
   ]
  },
  {
   "cell_type": "code",
   "execution_count": 91,
   "id": "6b70cd58-3684-4e64-8c3b-3b9c49b06a9a",
   "metadata": {},
   "outputs": [
    {
     "data": {
      "text/html": [
       "<div>\n",
       "<style scoped>\n",
       "    .dataframe tbody tr th:only-of-type {\n",
       "        vertical-align: middle;\n",
       "    }\n",
       "\n",
       "    .dataframe tbody tr th {\n",
       "        vertical-align: top;\n",
       "    }\n",
       "\n",
       "    .dataframe thead th {\n",
       "        text-align: right;\n",
       "    }\n",
       "</style>\n",
       "<table border=\"1\" class=\"dataframe\">\n",
       "  <thead>\n",
       "    <tr style=\"text-align: right;\">\n",
       "      <th></th>\n",
       "      <th>year</th>\n",
       "      <th>Month</th>\n",
       "      <th>Quarter</th>\n",
       "      <th>Week-of-year</th>\n",
       "      <th>Day-of-year</th>\n",
       "      <th>Week-of-month</th>\n",
       "      <th>Day-of-week</th>\n",
       "    </tr>\n",
       "  </thead>\n",
       "  <tbody>\n",
       "    <tr>\n",
       "      <th>0</th>\n",
       "      <td>2018</td>\n",
       "      <td>8</td>\n",
       "      <td>3</td>\n",
       "      <td>32</td>\n",
       "      <td>222</td>\n",
       "      <td>2</td>\n",
       "      <td>4</td>\n",
       "    </tr>\n",
       "  </tbody>\n",
       "</table>\n",
       "</div>"
      ],
      "text/plain": [
       "   year  Month  Quarter  Week-of-year  Day-of-year  Week-of-month  Day-of-week\n",
       "0  2018      8        3            32          222              2            4"
      ]
     },
     "execution_count": 91,
     "metadata": {},
     "output_type": "execute_result"
    }
   ],
   "source": [
    "input_data"
   ]
  },
  {
   "cell_type": "code",
   "execution_count": 93,
   "id": "a60a8560-be3e-4ab9-b643-f4acdf286234",
   "metadata": {},
   "outputs": [
    {
     "name": "stdin",
     "output_type": "stream",
     "text": [
      "Interest rate 2.42\n"
     ]
    }
   ],
   "source": [
    "input_data['Interest-rate'] = float(input(\"Interest rate\"))\n"
   ]
  },
  {
   "cell_type": "code",
   "execution_count": 95,
   "id": "bb877517-49aa-4bfd-a10e-ebd4e6823ec2",
   "metadata": {},
   "outputs": [
    {
     "name": "stdin",
     "output_type": "stream",
     "text": [
      "Election year 0\n"
     ]
    }
   ],
   "source": [
    "input_data['election-year'] = int(input(\"Election year\"))"
   ]
  },
  {
   "cell_type": "code",
   "execution_count": 97,
   "id": "2dc850ee-1e26-48c4-a33f-1b14c908edd5",
   "metadata": {},
   "outputs": [
    {
     "name": "stdin",
     "output_type": "stream",
     "text": [
      "US Election 0\n"
     ]
    }
   ],
   "source": [
    "input_data['US_election'] = int(input(\"US Election\"))"
   ]
  },
  {
   "cell_type": "code",
   "execution_count": 99,
   "id": "e6d16f19-8b6f-4322-bdd7-5eea96326dac",
   "metadata": {},
   "outputs": [
    {
     "data": {
      "text/plain": [
       "(1, 10)"
      ]
     },
     "execution_count": 99,
     "metadata": {},
     "output_type": "execute_result"
    }
   ],
   "source": [
    "input_data.shape"
   ]
  },
  {
   "cell_type": "code",
   "execution_count": 101,
   "id": "6420d89d-50fd-4d30-9376-a10aa0e8640d",
   "metadata": {},
   "outputs": [],
   "source": [
    "input_data = input_data[[\"Interest-rate\",\"Month\",\"Quarter\",\"Week-of-year\",\"Week-of-month\",\"Day-of-week\",\"Day-of-year\",\"election-year\",\"US_election\"]]"
   ]
  },
  {
   "cell_type": "code",
   "execution_count": 103,
   "id": "2b4a4649-864e-445b-8572-fe8d0698024a",
   "metadata": {},
   "outputs": [
    {
     "data": {
      "text/html": [
       "<div>\n",
       "<style scoped>\n",
       "    .dataframe tbody tr th:only-of-type {\n",
       "        vertical-align: middle;\n",
       "    }\n",
       "\n",
       "    .dataframe tbody tr th {\n",
       "        vertical-align: top;\n",
       "    }\n",
       "\n",
       "    .dataframe thead th {\n",
       "        text-align: right;\n",
       "    }\n",
       "</style>\n",
       "<table border=\"1\" class=\"dataframe\">\n",
       "  <thead>\n",
       "    <tr style=\"text-align: right;\">\n",
       "      <th></th>\n",
       "      <th>Interest-rate</th>\n",
       "      <th>Month</th>\n",
       "      <th>Quarter</th>\n",
       "      <th>Week-of-year</th>\n",
       "      <th>Week-of-month</th>\n",
       "      <th>Day-of-week</th>\n",
       "      <th>Day-of-year</th>\n",
       "      <th>election-year</th>\n",
       "      <th>US_election</th>\n",
       "    </tr>\n",
       "  </thead>\n",
       "  <tbody>\n",
       "    <tr>\n",
       "      <th>0</th>\n",
       "      <td>2.42</td>\n",
       "      <td>8</td>\n",
       "      <td>3</td>\n",
       "      <td>32</td>\n",
       "      <td>2</td>\n",
       "      <td>4</td>\n",
       "      <td>222</td>\n",
       "      <td>0</td>\n",
       "      <td>0</td>\n",
       "    </tr>\n",
       "  </tbody>\n",
       "</table>\n",
       "</div>"
      ],
      "text/plain": [
       "   Interest-rate  Month  Quarter  Week-of-year  Week-of-month  Day-of-week  \\\n",
       "0           2.42      8        3            32              2            4   \n",
       "\n",
       "   Day-of-year  election-year  US_election  \n",
       "0          222              0            0  "
      ]
     },
     "execution_count": 103,
     "metadata": {},
     "output_type": "execute_result"
    }
   ],
   "source": [
    "input_data"
   ]
  },
  {
   "cell_type": "code",
   "execution_count": 105,
   "id": "2589b3d5-4573-4a2f-ac1f-518925efb700",
   "metadata": {},
   "outputs": [
    {
     "data": {
      "text/plain": [
       "(1, 9)"
      ]
     },
     "execution_count": 105,
     "metadata": {},
     "output_type": "execute_result"
    }
   ],
   "source": [
    "input_data.shape"
   ]
  },
  {
   "cell_type": "code",
   "execution_count": 107,
   "id": "b68b153b-5ef8-49f3-8429-c7be2c72f910",
   "metadata": {},
   "outputs": [
    {
     "name": "stdout",
     "output_type": "stream",
     "text": [
      "<class 'pandas.core.frame.DataFrame'>\n",
      "RangeIndex: 1 entries, 0 to 0\n",
      "Data columns (total 9 columns):\n",
      " #   Column         Non-Null Count  Dtype  \n",
      "---  ------         --------------  -----  \n",
      " 0   Interest-rate  1 non-null      float64\n",
      " 1   Month          1 non-null      int64  \n",
      " 2   Quarter        1 non-null      int64  \n",
      " 3   Week-of-year   1 non-null      int64  \n",
      " 4   Week-of-month  1 non-null      int64  \n",
      " 5   Day-of-week    1 non-null      int64  \n",
      " 6   Day-of-year    1 non-null      int64  \n",
      " 7   election-year  1 non-null      int64  \n",
      " 8   US_election    1 non-null      int64  \n",
      "dtypes: float64(1), int64(8)\n",
      "memory usage: 204.0 bytes\n"
     ]
    }
   ],
   "source": [
    "input_data.info()"
   ]
  },
  {
   "cell_type": "code",
   "execution_count": 109,
   "id": "3112fad8-2754-48b5-b93b-18b59905f3c3",
   "metadata": {},
   "outputs": [],
   "source": [
    "import joblib\n",
    "model = joblib.load(\"rf_model1.pkl\")"
   ]
  },
  {
   "cell_type": "code",
   "execution_count": 111,
   "id": "aa393832-87d0-4b5a-8d79-dfbdcefe6be3",
   "metadata": {},
   "outputs": [],
   "source": [
    "pred = model.predict(input_data)"
   ]
  },
  {
   "cell_type": "code",
   "execution_count": 113,
   "id": "533096d4-1e20-4cef-8a13-77c490bc322e",
   "metadata": {},
   "outputs": [
    {
     "data": {
      "text/plain": [
       "array([100.4163])"
      ]
     },
     "execution_count": 113,
     "metadata": {},
     "output_type": "execute_result"
    }
   ],
   "source": [
    "pred"
   ]
  },
  {
   "cell_type": "code",
   "execution_count": null,
   "id": "0cb54f02-a469-475f-8b60-458d630241c5",
   "metadata": {},
   "outputs": [],
   "source": []
  }
 ],
 "metadata": {
  "kernelspec": {
   "display_name": "Python 3 (ipykernel)",
   "language": "python",
   "name": "python3"
  },
  "language_info": {
   "codemirror_mode": {
    "name": "ipython",
    "version": 3
   },
   "file_extension": ".py",
   "mimetype": "text/x-python",
   "name": "python",
   "nbconvert_exporter": "python",
   "pygments_lexer": "ipython3",
   "version": "3.12.7"
  }
 },
 "nbformat": 4,
 "nbformat_minor": 5
}
