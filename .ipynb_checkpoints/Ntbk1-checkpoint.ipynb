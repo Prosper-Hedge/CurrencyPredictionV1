{
 "cells": [
  {
   "cell_type": "markdown",
   "id": "b0d82cce-7009-4117-ac83-1f1c22050fac",
   "metadata": {},
   "source": [
    "link: https://www.centralbank.go.ke/rates/forex-exchange-rates/"
   ]
  },
  {
   "cell_type": "code",
   "execution_count": 1,
   "id": "98ed50ae-4243-4214-9c95-e525143291b2",
   "metadata": {},
   "outputs": [],
   "source": [
    "import pandas as pd"
   ]
  },
  {
   "cell_type": "code",
   "execution_count": 16,
   "id": "783cb6d5-733f-4c40-a5ba-ec2a984db33e",
   "metadata": {},
   "outputs": [],
   "source": [
    "data = pd.read_csv(\"data21125.csv\", parse_dates=['Date'])"
   ]
  },
  {
   "cell_type": "code",
   "execution_count": 18,
   "id": "7db7cdf9-3a09-49fb-955a-960b07c976ad",
   "metadata": {},
   "outputs": [
    {
     "data": {
      "text/html": [
       "<div>\n",
       "<style scoped>\n",
       "    .dataframe tbody tr th:only-of-type {\n",
       "        vertical-align: middle;\n",
       "    }\n",
       "\n",
       "    .dataframe tbody tr th {\n",
       "        vertical-align: top;\n",
       "    }\n",
       "\n",
       "    .dataframe thead th {\n",
       "        text-align: right;\n",
       "    }\n",
       "</style>\n",
       "<table border=\"1\" class=\"dataframe\">\n",
       "  <thead>\n",
       "    <tr style=\"text-align: right;\">\n",
       "      <th></th>\n",
       "      <th>Date</th>\n",
       "      <th>Time</th>\n",
       "      <th>Currency</th>\n",
       "      <th>Mean-value</th>\n",
       "      <th>Buy</th>\n",
       "      <th>Sell</th>\n",
       "    </tr>\n",
       "  </thead>\n",
       "  <tbody>\n",
       "    <tr>\n",
       "      <th>0</th>\n",
       "      <td>2016-10-11</td>\n",
       "      <td>12:00:00 AM</td>\n",
       "      <td>US DOLLAR</td>\n",
       "      <td>101.28</td>\n",
       "      <td>101.19</td>\n",
       "      <td>101.38</td>\n",
       "    </tr>\n",
       "    <tr>\n",
       "      <th>1</th>\n",
       "      <td>2016-10-13</td>\n",
       "      <td>12:00:00 AM</td>\n",
       "      <td>US DOLLAR</td>\n",
       "      <td>101.30</td>\n",
       "      <td>101.20</td>\n",
       "      <td>101.39</td>\n",
       "    </tr>\n",
       "    <tr>\n",
       "      <th>2</th>\n",
       "      <td>2016-10-13</td>\n",
       "      <td>12:00:00 AM</td>\n",
       "      <td>US DOLLAR</td>\n",
       "      <td>101.30</td>\n",
       "      <td>101.20</td>\n",
       "      <td>101.39</td>\n",
       "    </tr>\n",
       "    <tr>\n",
       "      <th>3</th>\n",
       "      <td>2016-10-13</td>\n",
       "      <td>12:00:00 AM</td>\n",
       "      <td>US DOLLAR</td>\n",
       "      <td>101.30</td>\n",
       "      <td>101.20</td>\n",
       "      <td>101.39</td>\n",
       "    </tr>\n",
       "    <tr>\n",
       "      <th>4</th>\n",
       "      <td>2016-10-13</td>\n",
       "      <td>12:00:00 AM</td>\n",
       "      <td>US DOLLAR</td>\n",
       "      <td>101.30</td>\n",
       "      <td>101.20</td>\n",
       "      <td>101.39</td>\n",
       "    </tr>\n",
       "  </tbody>\n",
       "</table>\n",
       "</div>"
      ],
      "text/plain": [
       "        Date         Time   Currency  Mean-value     Buy    Sell\n",
       "0 2016-10-11  12:00:00 AM  US DOLLAR      101.28  101.19  101.38\n",
       "1 2016-10-13  12:00:00 AM  US DOLLAR      101.30  101.20  101.39\n",
       "2 2016-10-13  12:00:00 AM  US DOLLAR      101.30  101.20  101.39\n",
       "3 2016-10-13  12:00:00 AM  US DOLLAR      101.30  101.20  101.39\n",
       "4 2016-10-13  12:00:00 AM  US DOLLAR      101.30  101.20  101.39"
      ]
     },
     "execution_count": 18,
     "metadata": {},
     "output_type": "execute_result"
    }
   ],
   "source": [
    "data.head()"
   ]
  },
  {
   "cell_type": "code",
   "execution_count": 20,
   "id": "a37533b0-6266-4c94-af2a-13982173a045",
   "metadata": {},
   "outputs": [
    {
     "name": "stdout",
     "output_type": "stream",
     "text": [
      "<class 'pandas.core.frame.DataFrame'>\n",
      "RangeIndex: 1803 entries, 0 to 1802\n",
      "Data columns (total 6 columns):\n",
      " #   Column      Non-Null Count  Dtype         \n",
      "---  ------      --------------  -----         \n",
      " 0   Date        1803 non-null   datetime64[ns]\n",
      " 1   Time        1803 non-null   object        \n",
      " 2   Currency    1803 non-null   object        \n",
      " 3   Mean-value  1803 non-null   float64       \n",
      " 4   Buy         1803 non-null   float64       \n",
      " 5   Sell        1803 non-null   float64       \n",
      "dtypes: datetime64[ns](1), float64(3), object(2)\n",
      "memory usage: 84.6+ KB\n"
     ]
    }
   ],
   "source": [
    "data.info()"
   ]
  },
  {
   "cell_type": "code",
   "execution_count": 30,
   "id": "9e281d14-bbe0-4aa7-a9dc-d9b2e18982ff",
   "metadata": {},
   "outputs": [],
   "source": [
    "data2 = pd.read_csv(\"data21125.csv\", index_col=['Date'], parse_dates=True)"
   ]
  },
  {
   "cell_type": "code",
   "execution_count": 32,
   "id": "3753f521-2f29-4786-943c-a96ac580041f",
   "metadata": {},
   "outputs": [
    {
     "data": {
      "text/html": [
       "<div>\n",
       "<style scoped>\n",
       "    .dataframe tbody tr th:only-of-type {\n",
       "        vertical-align: middle;\n",
       "    }\n",
       "\n",
       "    .dataframe tbody tr th {\n",
       "        vertical-align: top;\n",
       "    }\n",
       "\n",
       "    .dataframe thead th {\n",
       "        text-align: right;\n",
       "    }\n",
       "</style>\n",
       "<table border=\"1\" class=\"dataframe\">\n",
       "  <thead>\n",
       "    <tr style=\"text-align: right;\">\n",
       "      <th></th>\n",
       "      <th>Time</th>\n",
       "      <th>Currency</th>\n",
       "      <th>Mean-value</th>\n",
       "      <th>Buy</th>\n",
       "      <th>Sell</th>\n",
       "    </tr>\n",
       "    <tr>\n",
       "      <th>Date</th>\n",
       "      <th></th>\n",
       "      <th></th>\n",
       "      <th></th>\n",
       "      <th></th>\n",
       "      <th></th>\n",
       "    </tr>\n",
       "  </thead>\n",
       "  <tbody>\n",
       "    <tr>\n",
       "      <th>2016-10-11</th>\n",
       "      <td>12:00:00 AM</td>\n",
       "      <td>US DOLLAR</td>\n",
       "      <td>101.28</td>\n",
       "      <td>101.19</td>\n",
       "      <td>101.38</td>\n",
       "    </tr>\n",
       "    <tr>\n",
       "      <th>2016-10-13</th>\n",
       "      <td>12:00:00 AM</td>\n",
       "      <td>US DOLLAR</td>\n",
       "      <td>101.30</td>\n",
       "      <td>101.20</td>\n",
       "      <td>101.39</td>\n",
       "    </tr>\n",
       "    <tr>\n",
       "      <th>2016-10-13</th>\n",
       "      <td>12:00:00 AM</td>\n",
       "      <td>US DOLLAR</td>\n",
       "      <td>101.30</td>\n",
       "      <td>101.20</td>\n",
       "      <td>101.39</td>\n",
       "    </tr>\n",
       "    <tr>\n",
       "      <th>2016-10-13</th>\n",
       "      <td>12:00:00 AM</td>\n",
       "      <td>US DOLLAR</td>\n",
       "      <td>101.30</td>\n",
       "      <td>101.20</td>\n",
       "      <td>101.39</td>\n",
       "    </tr>\n",
       "    <tr>\n",
       "      <th>2016-10-13</th>\n",
       "      <td>12:00:00 AM</td>\n",
       "      <td>US DOLLAR</td>\n",
       "      <td>101.30</td>\n",
       "      <td>101.20</td>\n",
       "      <td>101.39</td>\n",
       "    </tr>\n",
       "  </tbody>\n",
       "</table>\n",
       "</div>"
      ],
      "text/plain": [
       "                   Time   Currency  Mean-value     Buy    Sell\n",
       "Date                                                          \n",
       "2016-10-11  12:00:00 AM  US DOLLAR      101.28  101.19  101.38\n",
       "2016-10-13  12:00:00 AM  US DOLLAR      101.30  101.20  101.39\n",
       "2016-10-13  12:00:00 AM  US DOLLAR      101.30  101.20  101.39\n",
       "2016-10-13  12:00:00 AM  US DOLLAR      101.30  101.20  101.39\n",
       "2016-10-13  12:00:00 AM  US DOLLAR      101.30  101.20  101.39"
      ]
     },
     "execution_count": 32,
     "metadata": {},
     "output_type": "execute_result"
    }
   ],
   "source": [
    "data2.head()"
   ]
  },
  {
   "cell_type": "code",
   "execution_count": 36,
   "id": "483d9fbe-4db3-464d-813d-6e6f578ea7bb",
   "metadata": {},
   "outputs": [
    {
     "data": {
      "text/plain": [
       "<Axes: xlabel='Date'>"
      ]
     },
     "execution_count": 36,
     "metadata": {},
     "output_type": "execute_result"
    },
    {
     "data": {
      "image/png": "[encoded data removed]",
      "text/plain": [
       "<Figure size 1200x500 with 1 Axes>"
      ]
     },
     "metadata": {},
     "output_type": "display_data"
    }
   ],
   "source": [
    "data2['Mean-value'].plot(figsize=(12,5))"
   ]
  },
  {
   "cell_type": "code",
   "execution_count": 44,
   "id": "5f39d965-d642-4f44-beaa-50e174d63147",
   "metadata": {},
   "outputs": [
    {
     "data": {
      "text/plain": [
       "Date          2024-01-03 00:00:00\n",
       "Time                  12:00:00 AM\n",
       "Currency                US DOLLAR\n",
       "Mean-value                 157.32\n",
       "Buy                        156.95\n",
       "Sell                       157.69\n",
       "dtype: object"
      ]
     },
     "execution_count": 44,
     "metadata": {},
     "output_type": "execute_result"
    }
   ],
   "source": [
    "data.max()"
   ]
  },
  {
   "cell_type": "markdown",
   "id": "11978526-72c4-4dd7-a21a-de3e7d9ebff2",
   "metadata": {},
   "source": [
    "The Augmented Dickey-Fuller (ADF) Test is a statistical test used to determine whether a time series is stationary or non-stationary. Stationarity means that the statistical properties of the series, such as mean and variance, are constant over time."
   ]
  },
  {
   "cell_type": "code",
   "execution_count": 47,
   "id": "d2c33c9e-6e6b-4d81-b707-1b6d14d851fb",
   "metadata": {},
   "outputs": [],
   "source": [
    "from statsmodels.tsa.stattools import adfuller\n",
    "\n",
    "#create a function\n",
    "def ad_test(dataset):\n",
    "    dftest = adfuller(dataset, autolag = \"AIC\")\n",
    "    print(\"1. ADF : \", dftest[0])\n",
    "    print(\"2. P-VAlue : \", dftest[1])\n",
    "    print(\"3. Num of Lags : \", dftest[2])\n",
    "    print(\"4. Num of observations used for ADF and Critical Values Calculations :\", dftest[3])\n",
    "    print(\"5. Critical Values : \")\n",
    "    for key, val in dftest[4].items():\n",
    "        print(\"\\t\", key, \": \", val)"
   ]
  },
  {
   "cell_type": "code",
   "execution_count": 49,
   "id": "43023c16-553b-43d9-94e6-65afea869b35",
   "metadata": {},
   "outputs": [
    {
     "name": "stdout",
     "output_type": "stream",
     "text": [
      "1. ADF :  4.226090736322659\n",
      "2. P-VAlue :  1.0\n",
      "3. Num of Lags :  24\n",
      "4. Num of observations used for ADF and Critical Values Calculations : 1778\n",
      "5. Critical Values : \n",
      "\t 1% :  -3.4340332205127657\n",
      "\t 5% :  -2.8631669370039785\n",
      "\t 10% :  -2.567636130407771\n"
     ]
    }
   ],
   "source": [
    "ad_test(data['Mean-value'])"
   ]
  },
  {
   "cell_type": "markdown",
   "id": "d5aa5c58-b90a-4e23-aebd-425ab07a3bd3",
   "metadata": {},
   "source": [
    "### Observations\n",
    "#### Hypothesis\n",
    "##### Null Hypothesis : The series is non-stationary\n",
    "#### #Alternative Hypothesis : The series is stationary\n",
    "\n",
    "The ADF test statistic is very high, indicating non-stationarity, therefore we fail to reject the null hyposthesis.\n",
    "Also the test statistic is greater that critical values at all times, therefore we fail to reject the null hypothesis.\n",
    "\n",
    "P-value > 0.05, fail to reject Null Hypothesis (non-stationary)\n",
    "    "
   ]
  },
  {
   "cell_type": "code",
   "execution_count": null,
   "id": "f5fbfe6f-944a-4b43-ab54-c70699c48078",
   "metadata": {},
   "outputs": [],
   "source": []
  }
 ],
 "metadata": {
  "kernelspec": {
   "display_name": "Python 3 (ipykernel)",
   "language": "python",
   "name": "python3"
  },
  "language_info": {
   "codemirror_mode": {
    "name": "ipython",
    "version": 3
   },
   "file_extension": ".py",
   "mimetype": "text/x-python",
   "name": "python",
   "nbconvert_exporter": "python",
   "pygments_lexer": "ipython3",
   "version": "3.12.7"
  }
 },
 "nbformat": 4,
 "nbformat_minor": 5
}
